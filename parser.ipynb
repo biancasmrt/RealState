{
  "nbformat": 4,
  "nbformat_minor": 0,
  "metadata": {
    "colab": {
      "name": "parser.ipynb",
      "provenance": [],
      "collapsed_sections": [],
      "toc_visible": true,
      "include_colab_link": true
    },
    "kernelspec": {
      "name": "python3",
      "display_name": "Python 3"
    }
  },
  "cells": [
    {
      "cell_type": "markdown",
      "metadata": {
        "id": "view-in-github",
        "colab_type": "text"
      },
      "source": [
        "<a href=\"https://colab.research.google.com/github/juliewang2020/FreeRealEstate/blob/master/parser.ipynb\" target=\"_parent\"><img src=\"https://colab.research.google.com/assets/colab-badge.svg\" alt=\"Open In Colab\"/></a>"
      ]
    },
    {
      "cell_type": "markdown",
      "metadata": {
        "id": "ApjhpNMILy18",
        "colab_type": "text"
      },
      "source": [
        "# Importing Data\n"
      ]
    },
    {
      "cell_type": "code",
      "metadata": {
        "id": "_Z2t4MSALqM-",
        "colab_type": "code",
        "colab": {}
      },
      "source": [
        "import pandas as pd\n",
        "import io\n",
        "df = pd.read_csv(io.BytesIO(uploaded['data.csv']))\n",
        "\n",
        "#get rid of ID and CreatedDate\n",
        "features = df.iloc[:, 1:]\n",
        "features.drop('CreatedDate', axis = 1, inplace=True)\n"
      ],
      "execution_count": 0,
      "outputs": []
    },
    {
      "cell_type": "code",
      "metadata": {
        "id": "RS2a8YDlTbJk",
        "colab_type": "code",
        "colab": {}
      },
      "source": [
        "############## Cleaning the HTML\n",
        "\n",
        "import re\n",
        "\n",
        "def cleanhtml(raw_html):\n",
        "  cleanr = re.compile('<.*?>|&([a-z0-9]+|#[0-9]{1,6}|#x[0-9a-f]{1,6});')\n",
        "  cleantext = re.sub(cleanr, '', raw_html)\n",
        "  return cleantext\n",
        "\n",
        "for i in range(0, 1933):\n",
        "  body_text = features.iloc[i , 2]\n",
        "  body_text = cleanhtml(body_text)\n",
        "  body_text = body_text.replace('\\n', ' ')\n",
        "  features.loc[i, 'Body'] = body_text\n",
        " \n",
        "\n",
        "### HI CALISTA"
      ],
      "execution_count": 0,
      "outputs": []
    },
    {
      "cell_type": "code",
      "metadata": {
        "id": "C7PIRJBxYhQi",
        "colab_type": "code",
        "colab": {}
      },
      "source": [
        ""
      ],
      "execution_count": 0,
      "outputs": []
    },
    {
      "cell_type": "code",
      "metadata": {
        "id": "jipm0qrRPa72",
        "colab_type": "code",
        "colab": {}
      },
      "source": [
        "from google.cloud import language\n",
        "from google.cloud.language import enums\n",
        "from google.cloud.language import types"
      ],
      "execution_count": 0,
      "outputs": []
    }
  ]
}